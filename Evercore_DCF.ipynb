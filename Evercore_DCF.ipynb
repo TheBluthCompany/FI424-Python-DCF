{
  "nbformat": 4,
  "nbformat_minor": 0,
  "metadata": {
    "colab": {
      "provenance": [],
      "authorship_tag": "ABX9TyNty7yVrki2RnCksICTbuLY",
      "include_colab_link": true
    },
    "kernelspec": {
      "name": "python3",
      "display_name": "Python 3"
    },
    "language_info": {
      "name": "python"
    }
  },
  "cells": [
    {
      "cell_type": "markdown",
      "metadata": {
        "id": "view-in-github",
        "colab_type": "text"
      },
      "source": [
        "<a href=\"https://colab.research.google.com/github/TheBluthCompany/FI424-Python-DCF/blob/main/Evercore_DCF.ipynb\" target=\"_parent\"><img src=\"https://colab.research.google.com/assets/colab-badge.svg\" alt=\"Open In Colab\"/></a>"
      ]
    },
    {
      "cell_type": "code",
      "execution_count": null,
      "metadata": {
        "id": "r7cmidLHOXDX"
      },
      "outputs": [],
      "source": [
        "#Let's invite all our friends to the houseparty!\n",
        "import numpy as np\n",
        "import pandas as pd \n",
        "!pip install openpyxl\n",
        "!pip install yfinance\n",
        "import os \n",
        "\n",
        "#Import files downloaded from FRED \n",
        "from google.colab import files\n",
        "files.upload()\n",
        "\n",
        "#Set row names instead of integers using inplace = True\n",
        "balance_sheet = pd.read_excel('Evercore Balance Sheet.xlsx')\n",
        "balance_sheet.set_index('Consolidated Statements of Financial Condition - USD ($) $ in Thousands', inplace = True)\n",
        "\n",
        "income_statement = pd.read_excel('Evercore Income Statement.xlsx')\n",
        "income_statement.set_index('Consolidated Statements of Operations - USD ($) shares in Thousands, $ in Thousands', inplace = True)\n",
        "\n",
        "cash_flow_statement = pd.read_excel('Evercore Cash Flow Statement.xlsx')\n",
        "cash_flow_statement.set_index('Consolidated Statements of Cash Flows - USD ($) $ in Thousands', inplace = True)\n",
        "\n",
        "securities_outstanding = pd.read_excel('Evercore Securities Outstanding.xlsx')\n",
        "securities_outstanding.set_index('Consolidated Statements of Financial Condition (Parenthetical) - USD ($) $ in Thousands', inplace = True)\n"
      ]
    },
    {
      "cell_type": "code",
      "source": [
        "from sklearn.linear_model import LinearRegression\n",
        "\n",
        "x = np.arange(len(income_statement.loc['Net Revenues'].iloc[0])).reshape(-1, 1)\n",
        "\n",
        "\n",
        "stock_chart = LinearRegression()\n",
        "stock_chart.fit(x, income_statement.loc['Net Revenues'].iloc[0])\n",
        "print(income_statement.loc['Net Revenues'].iloc[0,0])\n",
        "\n",
        "forecast_period = 5\n",
        "\n",
        "forecasted_revenue = stock_chart.predict(np.arange(len(income_statement.loc['Net Revenues'].iloc[0]) + forecast_period).reshape(-1, 1))\n",
        "\n",
        "cash_and_cash_equivalents = (balance_sheet.loc['Cash and Cash Equivalents'].iloc[0])\n",
        "print(cash_and_cash_equivalents)\n",
        "\n",
        "future_net_income = (forecasted_revenue) * (income_statement.loc['Net Income'].iloc[0])\n",
        "print(future_net_income)\n",
        "\n",
        "future_free_cash_flow = cash_and_cash_equivalents + future_net_income\n",
        "print(future_free_cash_flow)\n",
        "\n",
        "#Forecast the FCF\n",
        "forecasted_cash_flows = []\n",
        "for i in range(forecast_period):\n",
        "    future_net_income = forecasted_revenue[i] * (income_statement.loc['Net Income'].iloc[0])\n",
        "    future_free_cash_flow = (cash_and_cash_equivalents + future_net_income)\n",
        "    forecasted_cash_flows.append(future_free_cash_flow)\n",
        "\n",
        "print(forecasted_cash_flows)\n"
      ],
      "metadata": {
        "colab": {
          "base_uri": "https://localhost:8080/"
        },
        "id": "pmsTPjm1n7Pm",
        "outputId": "359e30d2-2119-4639-a673-e0f566d12b65"
      },
      "execution_count": 200,
      "outputs": [
        {
          "output_type": "stream",
          "name": "stdout",
          "text": [
            "3289499\n",
            "578317\n",
            "[ 2.74564712e+12  2.18941254e+12  1.63317796e+12  1.07694337e+12\n",
            "  5.20708790e+11 -3.55257938e+10 -5.91760377e+11 -1.14799496e+12]\n",
            "[ 2.74564770e+12  2.18941312e+12  1.63317853e+12  1.07694395e+12\n",
            "  5.20709368e+11 -3.55252155e+10 -5.91759799e+11 -1.14799438e+12]\n",
            "[2745647701952.1665, 2189413118465.6665, 1633178534979.1667, 1076943951492.667, 520709368006.16693]\n"
          ]
        }
      ]
    },
    {
      "cell_type": "code",
      "source": [
        "import yfinance as yf\n",
        "\n",
        "#Find the shares outstanding \n",
        "outstanding_shares = (\n",
        "    securities_outstanding.loc['Common Stock, Shares, Outstanding'].iloc[0,0]\n",
        ")\n",
        "print(outstanding_shares)\n",
        "#Calculate the most recent stock price\n",
        "stock = yf.Ticker('EVR')\n",
        "current_stock_price = stock.info['regularMarketPrice']\n",
        "print(current_stock_price)\n",
        "# Calculate the market value of equity\n",
        "market_value_of_equity = outstanding_shares * current_stock_price\n",
        "market_value_of_equity = market_value_of_equity / 1000\n",
        "print(market_value_of_equity)\n"
      ],
      "metadata": {
        "colab": {
          "base_uri": "https://localhost:8080/"
        },
        "id": "EFwi8BrWGKMG",
        "outputId": "75128794-9c65-40a2-8524-9b25034dfb49"
      },
      "execution_count": 105,
      "outputs": [
        {
          "output_type": "stream",
          "name": "stdout",
          "text": [
            "37903430.0\n",
            "124.02\n",
            "4700783.388599999\n"
          ]
        }
      ]
    },
    {
      "cell_type": "code",
      "source": [
        "#Calculate the Market Value of Debt\n",
        "market_value_of_debt = (balance_sheet.loc['Total Liabilities'].iloc[0]\n",
        "                        - balance_sheet.loc['Total Current Liabilities'].iloc[0]\n",
        ")\n",
        "market_value_of_debt = market_value_of_debt / 1000\n",
        "print(market_value_of_debt)\n"
      ],
      "metadata": {
        "colab": {
          "base_uri": "https://localhost:8080/"
        },
        "id": "esGz9kWrOTi8",
        "outputId": "3472b4fe-3fcb-44ea-fc93-a170f5611be8"
      },
      "execution_count": 106,
      "outputs": [
        {
          "output_type": "stream",
          "name": "stdout",
          "text": [
            "870.24\n"
          ]
        }
      ]
    },
    {
      "cell_type": "code",
      "source": [
        "\n",
        "#- - - - - - - - - - - - - - - Calculate the Cost of Equity using CAPM (Capital Asset Pricing Model)- - - - - - - - - - - - - - - - \n",
        "\n",
        "#Calculate the Risk Free Rate\n",
        "yield_curve = yf.download(['^TNX'], \n",
        "                          start = '2015-01-01', \n",
        "                          end = '2021-01-01'\n",
        "                          )\n",
        "risk_free_rate = yield_curve['Adj Close'].mean()\n",
        "risk_free_rate = risk_free_rate/100\n",
        "print('rfr:', risk_free_rate)\n",
        "\n",
        "#Calculate Beta\n",
        "beta = stock.info['beta']\n",
        "beta = beta / 100\n",
        "\n",
        "#Calculate Average Market Return\n",
        "sp500_curve = yf.download(['SPX'], \n",
        "                           start= '2015-01-01', \n",
        "                           end= '2021-01-01')\n",
        "market = sp500_curve['Adj Close'].pct_change()\n",
        "average_market_return = market.mean()\n",
        "print(average_market_return)\n",
        "\n",
        "#Calculate the Cost of Equity \n",
        "cost_of_equity = risk_free_rate + beta * (average_market_return - risk_free_rate)\n",
        "cost_of_equity = cost_of_equity / 1\n",
        "print(cost_of_equity)\n",
        "\n",
        "\n"
      ],
      "metadata": {
        "colab": {
          "base_uri": "https://localhost:8080/"
        },
        "id": "YF0ibLObQUP9",
        "outputId": "1ea6af61-0225-466a-ae3a-884fbb04e434"
      },
      "execution_count": 127,
      "outputs": [
        {
          "output_type": "stream",
          "name": "stdout",
          "text": [
            "\r[*********************100%***********************]  1 of 1 completed\n",
            "rfr: 0.020366958237942517\n",
            "[*********************100%***********************]  1 of 1 completed\n",
            "0.46023919671650837\n",
            "0.027007229961513484\n"
          ]
        }
      ]
    },
    {
      "cell_type": "code",
      "source": [
        "#----------------Cost of Debt----------------\n",
        "#Calculate the Total Debt (simple)\n",
        "average_total_debt = ((\n",
        "                     balance_sheet.loc['Total Liabilities'].iloc[0] \n",
        "                     + balance_sheet.loc['Total Liabilities'].iloc[1])\n",
        "                     - (balance_sheet.loc['Total Current Liabilities'].iloc[0]\n",
        "                        + balance_sheet.loc['Total Current Liabilities'].iloc[1]\n",
        "                     )) / 2\n",
        "print(average_total_debt)\n",
        "interest_rate = (\n",
        "                     income_statement.loc['Interest Expense'].iloc[0]\n",
        "                     / average_total_debt)\n",
        "\n",
        "print(interest_rate)\n",
        "#Calculate the Tax Rate\n",
        "tax_rate = (\n",
        "    (income_statement.loc['Income Before Income Taxes'].iloc[0, 0]\n",
        "     - income_statement.loc['Net Income'].iloc[0])\n",
        "    / income_statement.loc['Income Before Income Taxes'].iloc[0, 0])\n",
        "print(tax_rate)\n",
        "#Cost of Debt\n",
        "cost_of_debt = interest_rate * (1-tax_rate)\n",
        "print(cost_of_debt)\n",
        "\n",
        "\n"
      ],
      "metadata": {
        "colab": {
          "base_uri": "https://localhost:8080/"
        },
        "id": "v__-p5y5IeX6",
        "outputId": "cccd1f2d-71c4-4ac5-d4d5-7126f1b92a88"
      },
      "execution_count": 128,
      "outputs": [
        {
          "output_type": "stream",
          "name": "stdout",
          "text": [
            "843910.5\n",
            "0.020838702682334204\n",
            "0.22212629601137024\n",
            "0.0162098788418251\n"
          ]
        }
      ]
    },
    {
      "cell_type": "code",
      "source": [
        "# Calculate the Weighted Average Cost of Capital (WACC)\n",
        "total_market_value = market_value_of_equity + market_value_of_debt\n",
        "print(total_market_value)\n",
        "equity_weight = market_value_of_equity / total_market_value\n",
        "print(equity_weight)\n",
        "debt_weight = market_value_of_debt / total_market_value\n",
        "print(debt_weight)\n",
        "\n",
        "WACC = (\n",
        "    (equity_weight * cost_of_equity) + ((cost_of_debt * debt_weight) * (1 - tax_rate)))\n",
        "print('Wacc: ', WACC)\n",
        "\n",
        "print(\"The Calculated WACC under conservative assumptions, for %s, is %.2f\" %(stock.info['shortName'], WACC*100))"
      ],
      "metadata": {
        "colab": {
          "base_uri": "https://localhost:8080/"
        },
        "id": "T48IPQjLIeOk",
        "outputId": "a0688b0d-c624-410a-ce85-4a1efe730deb"
      },
      "execution_count": 169,
      "outputs": [
        {
          "output_type": "stream",
          "name": "stdout",
          "text": [
            "4701653.6285999995\n",
            "0.999814907675311\n",
            "0.0001850923246889902\n",
            "Wacc:  0.02700456500380226\n",
            "The Calculated WACC under conservative assumptions, for Evercore Inc., is 2.70\n"
          ]
        }
      ]
    },
    {
      "cell_type": "code",
      "source": [
        "yf.Ticker('EVR').info"
      ],
      "metadata": {
        "id": "VUzH8yfuV5v0"
      },
      "execution_count": null,
      "outputs": []
    }
  ]
}